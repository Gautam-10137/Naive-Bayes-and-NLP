{
 "cells": [
  {
   "cell_type": "markdown",
   "id": "68d2c6fe",
   "metadata": {},
   "source": [
    "# Creating Manually"
   ]
  },
  {
   "cell_type": "code",
   "execution_count": 7,
   "id": "567d109c",
   "metadata": {},
   "outputs": [],
   "source": [
    "with open('One.txt') as word:\n",
    "    one_words=word.read().lower().split()\n",
    "    uni_words_one=set(one_words)"
   ]
  },
  {
   "cell_type": "code",
   "execution_count": 8,
   "id": "824b03f4",
   "metadata": {},
   "outputs": [],
   "source": [
    "with open('Two.txt') as word:\n",
    "    two_words= word.read().lower().split()\n",
    "    uni_words_two=set(two_words)"
   ]
  },
  {
   "cell_type": "code",
   "execution_count": 10,
   "id": "6608cd6a",
   "metadata": {},
   "outputs": [],
   "source": [
    "all_uni_words=set()\n",
    "all_uni_words.update(uni_words_one)"
   ]
  },
  {
   "cell_type": "code",
   "execution_count": 11,
   "id": "415dd7fc",
   "metadata": {},
   "outputs": [],
   "source": [
    "all_uni_words.update(uni_words_two)"
   ]
  },
  {
   "cell_type": "code",
   "execution_count": 12,
   "id": "0f8c6bfe",
   "metadata": {},
   "outputs": [
    {
     "data": {
      "text/plain": [
       "{'a',\n",
       " 'about',\n",
       " 'animals',\n",
       " 'are',\n",
       " 'canine',\n",
       " 'catching',\n",
       " 'dogs',\n",
       " 'fun',\n",
       " 'furry',\n",
       " 'is',\n",
       " 'our',\n",
       " 'pets',\n",
       " 'popular',\n",
       " 'sport',\n",
       " 'story',\n",
       " 'surfing',\n",
       " 'this',\n",
       " 'water',\n",
       " 'waves'}"
      ]
     },
     "execution_count": 12,
     "metadata": {},
     "output_type": "execute_result"
    }
   ],
   "source": [
    "all_uni_words"
   ]
  },
  {
   "cell_type": "code",
   "execution_count": 13,
   "id": "d96859d6",
   "metadata": {},
   "outputs": [],
   "source": [
    "full_vocab= dict()\n",
    "i=0\n",
    "for word in all_uni_words:\n",
    "    full_vocab[word]=i\n",
    "    i=i+1"
   ]
  },
  {
   "cell_type": "code",
   "execution_count": 14,
   "id": "26366a34",
   "metadata": {},
   "outputs": [
    {
     "data": {
      "text/plain": [
       "{'about': 0,\n",
       " 'is': 1,\n",
       " 'canine': 2,\n",
       " 'surfing': 3,\n",
       " 'fun': 4,\n",
       " 'this': 5,\n",
       " 'waves': 6,\n",
       " 'are': 7,\n",
       " 'catching': 8,\n",
       " 'sport': 9,\n",
       " 'animals': 10,\n",
       " 'popular': 11,\n",
       " 'water': 12,\n",
       " 'our': 13,\n",
       " 'pets': 14,\n",
       " 'a': 15,\n",
       " 'story': 16,\n",
       " 'furry': 17,\n",
       " 'dogs': 18}"
      ]
     },
     "execution_count": 14,
     "metadata": {},
     "output_type": "execute_result"
    }
   ],
   "source": [
    "full_vocab"
   ]
  },
  {
   "cell_type": "code",
   "execution_count": 17,
   "id": "5e183bf8",
   "metadata": {},
   "outputs": [],
   "source": [
    "one_freq=[0]*len(full_vocab)\n",
    "two_freq=[0]*len(full_vocab)\n",
    "all_words=['']*len(full_vocab)"
   ]
  },
  {
   "cell_type": "code",
   "execution_count": 18,
   "id": "6847588e",
   "metadata": {},
   "outputs": [],
   "source": [
    "for word in full_vocab:\n",
    "    word_ind=full_vocab[word]\n",
    "    all_words[word_ind]=word"
   ]
  },
  {
   "cell_type": "code",
   "execution_count": 19,
   "id": "1a25d177",
   "metadata": {},
   "outputs": [
    {
     "data": {
      "text/plain": [
       "['about',\n",
       " 'is',\n",
       " 'canine',\n",
       " 'surfing',\n",
       " 'fun',\n",
       " 'this',\n",
       " 'waves',\n",
       " 'are',\n",
       " 'catching',\n",
       " 'sport',\n",
       " 'animals',\n",
       " 'popular',\n",
       " 'water',\n",
       " 'our',\n",
       " 'pets',\n",
       " 'a',\n",
       " 'story',\n",
       " 'furry',\n",
       " 'dogs']"
      ]
     },
     "execution_count": 19,
     "metadata": {},
     "output_type": "execute_result"
    }
   ],
   "source": [
    "all_words"
   ]
  },
  {
   "cell_type": "code",
   "execution_count": 20,
   "id": "00341e52",
   "metadata": {},
   "outputs": [],
   "source": [
    "with open('One.txt') as mytext:\n",
    "    one_word=mytext.read().lower().split()"
   ]
  },
  {
   "cell_type": "code",
   "execution_count": 23,
   "id": "24b7c098",
   "metadata": {},
   "outputs": [],
   "source": [
    "for word in one_word:\n",
    "    word_ind= full_vocab[word]\n",
    "    one_freq[word_ind]+=1"
   ]
  },
  {
   "cell_type": "code",
   "execution_count": 25,
   "id": "6f6f1856",
   "metadata": {},
   "outputs": [
    {
     "data": {
      "text/plain": [
       "[1, 1, 1, 0, 0, 1, 0, 1, 0, 0, 1, 0, 0, 1, 1, 1, 1, 1, 2]"
      ]
     },
     "execution_count": 25,
     "metadata": {},
     "output_type": "execute_result"
    }
   ],
   "source": [
    "one_freq"
   ]
  },
  {
   "cell_type": "code",
   "execution_count": 26,
   "id": "598838fb",
   "metadata": {},
   "outputs": [],
   "source": [
    "with open('Two.txt') as mytext:\n",
    "    two_word=mytext.read().lower().split()"
   ]
  },
  {
   "cell_type": "code",
   "execution_count": 27,
   "id": "6e014b2e",
   "metadata": {},
   "outputs": [],
   "source": [
    "for word in two_word:\n",
    "    word_ind=full_vocab[word]\n",
    "    two_freq[word_ind]+=1"
   ]
  },
  {
   "cell_type": "code",
   "execution_count": 28,
   "id": "f6ca6454",
   "metadata": {},
   "outputs": [
    {
     "data": {
      "text/plain": [
       "[1, 3, 0, 2, 1, 1, 1, 0, 1, 1, 0, 1, 1, 0, 0, 1, 1, 0, 0]"
      ]
     },
     "execution_count": 28,
     "metadata": {},
     "output_type": "execute_result"
    }
   ],
   "source": [
    "two_freq"
   ]
  },
  {
   "cell_type": "code",
   "execution_count": 29,
   "id": "630d3f31",
   "metadata": {},
   "outputs": [],
   "source": [
    "import pandas as pd"
   ]
  },
  {
   "cell_type": "code",
   "execution_count": 32,
   "id": "df802319",
   "metadata": {},
   "outputs": [],
   "source": [
    "bow=pd.DataFrame(data=[one_freq,two_freq],columns=all_words)"
   ]
  },
  {
   "cell_type": "code",
   "execution_count": 33,
   "id": "93ec993f",
   "metadata": {},
   "outputs": [
    {
     "data": {
      "text/html": [
       "<div>\n",
       "<style scoped>\n",
       "    .dataframe tbody tr th:only-of-type {\n",
       "        vertical-align: middle;\n",
       "    }\n",
       "\n",
       "    .dataframe tbody tr th {\n",
       "        vertical-align: top;\n",
       "    }\n",
       "\n",
       "    .dataframe thead th {\n",
       "        text-align: right;\n",
       "    }\n",
       "</style>\n",
       "<table border=\"1\" class=\"dataframe\">\n",
       "  <thead>\n",
       "    <tr style=\"text-align: right;\">\n",
       "      <th></th>\n",
       "      <th>about</th>\n",
       "      <th>is</th>\n",
       "      <th>canine</th>\n",
       "      <th>surfing</th>\n",
       "      <th>fun</th>\n",
       "      <th>this</th>\n",
       "      <th>waves</th>\n",
       "      <th>are</th>\n",
       "      <th>catching</th>\n",
       "      <th>sport</th>\n",
       "      <th>animals</th>\n",
       "      <th>popular</th>\n",
       "      <th>water</th>\n",
       "      <th>our</th>\n",
       "      <th>pets</th>\n",
       "      <th>a</th>\n",
       "      <th>story</th>\n",
       "      <th>furry</th>\n",
       "      <th>dogs</th>\n",
       "    </tr>\n",
       "  </thead>\n",
       "  <tbody>\n",
       "    <tr>\n",
       "      <th>0</th>\n",
       "      <td>1</td>\n",
       "      <td>1</td>\n",
       "      <td>1</td>\n",
       "      <td>0</td>\n",
       "      <td>0</td>\n",
       "      <td>1</td>\n",
       "      <td>0</td>\n",
       "      <td>1</td>\n",
       "      <td>0</td>\n",
       "      <td>0</td>\n",
       "      <td>1</td>\n",
       "      <td>0</td>\n",
       "      <td>0</td>\n",
       "      <td>1</td>\n",
       "      <td>1</td>\n",
       "      <td>1</td>\n",
       "      <td>1</td>\n",
       "      <td>1</td>\n",
       "      <td>2</td>\n",
       "    </tr>\n",
       "    <tr>\n",
       "      <th>1</th>\n",
       "      <td>1</td>\n",
       "      <td>3</td>\n",
       "      <td>0</td>\n",
       "      <td>2</td>\n",
       "      <td>1</td>\n",
       "      <td>1</td>\n",
       "      <td>1</td>\n",
       "      <td>0</td>\n",
       "      <td>1</td>\n",
       "      <td>1</td>\n",
       "      <td>0</td>\n",
       "      <td>1</td>\n",
       "      <td>1</td>\n",
       "      <td>0</td>\n",
       "      <td>0</td>\n",
       "      <td>1</td>\n",
       "      <td>1</td>\n",
       "      <td>0</td>\n",
       "      <td>0</td>\n",
       "    </tr>\n",
       "  </tbody>\n",
       "</table>\n",
       "</div>"
      ],
      "text/plain": [
       "   about  is  canine  surfing  fun  this  waves  are  catching  sport  \\\n",
       "0      1   1       1        0    0     1      0    1         0      0   \n",
       "1      1   3       0        2    1     1      1    0         1      1   \n",
       "\n",
       "   animals  popular  water  our  pets  a  story  furry  dogs  \n",
       "0        1        0      0    1     1  1      1      1     2  \n",
       "1        0        1      1    0     0  1      1      0     0  "
      ]
     },
     "execution_count": 33,
     "metadata": {},
     "output_type": "execute_result"
    }
   ],
   "source": [
    "bow"
   ]
  },
  {
   "cell_type": "markdown",
   "id": "23203261",
   "metadata": {},
   "source": [
    "# using scikit-learn"
   ]
  },
  {
   "cell_type": "code",
   "execution_count": 35,
   "id": "4304cabd",
   "metadata": {},
   "outputs": [],
   "source": [
    "text=['This is a line', 'This is another line','Completely different line']"
   ]
  },
  {
   "cell_type": "code",
   "execution_count": 38,
   "id": "96610719",
   "metadata": {},
   "outputs": [],
   "source": [
    "from sklearn.feature_extraction.text import CountVectorizer"
   ]
  },
  {
   "cell_type": "code",
   "execution_count": 63,
   "id": "3d05ca29",
   "metadata": {},
   "outputs": [],
   "source": [
    "cv=CountVectorizer() # it auto convert words into count vectors"
   ]
  },
  {
   "cell_type": "code",
   "execution_count": 49,
   "id": "7349cd85",
   "metadata": {},
   "outputs": [],
   "source": [
    "sparse_matrix=cv.fit_transform(text)  # it returns sparse matrix to save memory space."
   ]
  },
  {
   "cell_type": "code",
   "execution_count": 50,
   "id": "daa34fdc",
   "metadata": {},
   "outputs": [
    {
     "data": {
      "text/plain": [
       "(3, 6)"
      ]
     },
     "execution_count": 50,
     "metadata": {},
     "output_type": "execute_result"
    }
   ],
   "source": [
    "sparse_matrix.get_shape()"
   ]
  },
  {
   "cell_type": "code",
   "execution_count": 51,
   "id": "bddffe94",
   "metadata": {},
   "outputs": [
    {
     "data": {
      "text/plain": [
       "matrix([[0, 0, 0, 1, 1, 1],\n",
       "        [1, 0, 0, 1, 1, 1],\n",
       "        [0, 1, 1, 0, 1, 0]], dtype=int64)"
      ]
     },
     "execution_count": 51,
     "metadata": {},
     "output_type": "execute_result"
    }
   ],
   "source": [
    "sparse_matrix.todense()"
   ]
  },
  {
   "cell_type": "code",
   "execution_count": 60,
   "id": "8dad32ac",
   "metadata": {},
   "outputs": [
    {
     "data": {
      "text/plain": [
       "{'this': 5, 'is': 3, 'line': 4, 'another': 0, 'completely': 1, 'different': 2}"
      ]
     },
     "execution_count": 60,
     "metadata": {},
     "output_type": "execute_result"
    }
   ],
   "source": [
    "cv.vocabulary_  # this is what we created manually\n",
    "# it is a mapping or iterable -> Either a Mapping (e.g., a dict) where keys are terms and values are\n",
    "#      indices in the feature matrix, or an iterable over terms."
   ]
  },
  {
   "cell_type": "code",
   "execution_count": 61,
   "id": "44b3d696",
   "metadata": {},
   "outputs": [],
   "source": [
    "#  to remove wortds that are common in all texts"
   ]
  },
  {
   "cell_type": "code",
   "execution_count": 65,
   "id": "9ebedaca",
   "metadata": {},
   "outputs": [],
   "source": [
    "cv1=CountVectorizer(stop_words='english')  # removes words from list of predefined words."
   ]
  },
  {
   "cell_type": "code",
   "execution_count": 66,
   "id": "e2c93a80",
   "metadata": {},
   "outputs": [],
   "source": [
    "sparse_mtx=cv1.fit_transform(text)"
   ]
  },
  {
   "cell_type": "code",
   "execution_count": 68,
   "id": "58820ec5",
   "metadata": {},
   "outputs": [
    {
     "data": {
      "text/plain": [
       "{'line': 2, 'completely': 0, 'different': 1}"
      ]
     },
     "execution_count": 68,
     "metadata": {},
     "output_type": "execute_result"
    }
   ],
   "source": [
    "cv1.vocabulary_     # it removes this & is"
   ]
  },
  {
   "cell_type": "code",
   "execution_count": 87,
   "id": "ed0811d6",
   "metadata": {},
   "outputs": [],
   "source": [
    "from sklearn.feature_extraction.text import TfidfTransformer  # Transform frequency , inverse document frequency"
   ]
  },
  {
   "cell_type": "code",
   "execution_count": 88,
   "id": "ce751d06",
   "metadata": {},
   "outputs": [],
   "source": [
    "tfidf=TfidfTransformer()   # this is to transform BOW --> TF-IDF"
   ]
  },
  {
   "cell_type": "code",
   "execution_count": 89,
   "id": "7baa9245",
   "metadata": {},
   "outputs": [],
   "source": [
    "results=tfidf.fit_transform(sparse_mtx) #  BOW --> TF-IDF"
   ]
  },
  {
   "cell_type": "code",
   "execution_count": 90,
   "id": "cbf662f9",
   "metadata": {},
   "outputs": [
    {
     "data": {
      "text/plain": [
       "matrix([[0.        , 0.        , 1.        ],\n",
       "        [0.        , 0.        , 1.        ],\n",
       "        [0.65249088, 0.65249088, 0.38537163]])"
      ]
     },
     "execution_count": 90,
     "metadata": {},
     "output_type": "execute_result"
    }
   ],
   "source": [
    "results.todense()"
   ]
  },
  {
   "cell_type": "code",
   "execution_count": 91,
   "id": "8d309635",
   "metadata": {},
   "outputs": [],
   "source": [
    "from sklearn.feature_extraction.text import TfidfVectorizer"
   ]
  },
  {
   "cell_type": "code",
   "execution_count": 92,
   "id": "be8c9ae5",
   "metadata": {},
   "outputs": [],
   "source": [
    "tv=TfidfVectorizer()"
   ]
  },
  {
   "cell_type": "code",
   "execution_count": 93,
   "id": "f4a3bba5",
   "metadata": {},
   "outputs": [],
   "source": [
    "tv_results=tv.fit_transform(text)"
   ]
  },
  {
   "cell_type": "code",
   "execution_count": 94,
   "id": "d6dad507",
   "metadata": {},
   "outputs": [
    {
     "data": {
      "text/plain": [
       "matrix([[0.        , 0.        , 0.        , 0.61980538, 0.48133417,\n",
       "         0.61980538],\n",
       "        [0.63174505, 0.        , 0.        , 0.4804584 , 0.37311881,\n",
       "         0.4804584 ],\n",
       "        [0.        , 0.65249088, 0.65249088, 0.        , 0.38537163,\n",
       "         0.        ]])"
      ]
     },
     "execution_count": 94,
     "metadata": {},
     "output_type": "execute_result"
    }
   ],
   "source": [
    "tv_results.todense()"
   ]
  },
  {
   "cell_type": "code",
   "execution_count": null,
   "id": "f5c5672f",
   "metadata": {},
   "outputs": [],
   "source": []
  },
  {
   "cell_type": "code",
   "execution_count": null,
   "id": "0184437d",
   "metadata": {},
   "outputs": [],
   "source": []
  }
 ],
 "metadata": {
  "kernelspec": {
   "display_name": "Python 3 (ipykernel)",
   "language": "python",
   "name": "python3"
  },
  "language_info": {
   "codemirror_mode": {
    "name": "ipython",
    "version": 3
   },
   "file_extension": ".py",
   "mimetype": "text/x-python",
   "name": "python",
   "nbconvert_exporter": "python",
   "pygments_lexer": "ipython3",
   "version": "3.11.4"
  }
 },
 "nbformat": 4,
 "nbformat_minor": 5
}
